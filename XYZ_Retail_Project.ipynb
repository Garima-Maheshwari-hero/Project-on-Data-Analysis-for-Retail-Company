{
 "cells": [
  {
   "cell_type": "code",
   "execution_count": 1,
   "id": "e084eb11-f4d2-4b2c-a69c-7388211ac622",
   "metadata": {},
   "outputs": [
    {
     "name": "stdout",
     "output_type": "stream",
     "text": [
      "Sales Data Summary:\n",
      "Category A Units Sold: 150\n",
      "Category B Units Sold: 200\n",
      "Total Units Sold: 350\n",
      "Difference between Category B and A: 50\n",
      "Ratio of Category A to B: 0.75\n"
     ]
    }
   ],
   "source": [
    "##Task 1: Sales Data Summary\n",
    "# Assign units sold\n",
    "category_a_units = 900\n",
    "category_b_units = 100\n",
    "\n",
    "# Calculate total units sold\n",
    "total_units = category_a_units + category_b_units\n",
    "\n",
    "# Calculate difference\n",
    "difference = category_b_units - category_a_units\n",
    "\n",
    "# Calculate ratio (Category A : Category B)\n",
    "ratio = category_a_units / category_b_units\n",
    "\n",
    "# Print results\n",
    "print(\"Sales Data Summary:\")\n",
    "print(f\"Category A Units Sold: {category_a_units}\")\n",
    "print(f\"Category B Units Sold: {category_b_units}\")\n",
    "print(f\"Total Units Sold: {total_units}\")\n",
    "print(f\"Difference between Category B and A: {difference}\")\n",
    "print(f\"Ratio of Category A to B: {ratio:.2f}\")"
   ]
  },
  {
   "cell_type": "code",
   "execution_count": 3,
   "id": "1d4e4f42-13e1-4353-b726-a170895e75b4",
   "metadata": {},
   "outputs": [
    {
     "name": "stdout",
     "output_type": "stream",
     "text": [
      "Dear John Doe, at 30, you’re eligible for our premium loyalty program.\n"
     ]
    }
   ],
   "source": [
    "##Task 2: Customer Age Data\n",
    "# Store customer name and age\n",
    "customer_name = \"John Doe\"\n",
    "customer_age = 30\n",
    "\n",
    "# Convert age to string and create message\n",
    "message = f\"Dear {customer_name}, at {str(customer_age)}, you’re eligible for our premium loyalty program.\"\n",
    "\n",
    "# Print the message\n",
    "print(message)"
   ]
  },
  {
   "cell_type": "code",
   "execution_count": 43,
   "id": "d7250644-485c-48cb-b415-f9c3373b7217",
   "metadata": {},
   "outputs": [
    {
     "name": "stdout",
     "output_type": "stream",
     "text": [
      "Highest Price: $42.5\n",
      "Lowest Price: $5.99\n",
      "Mid-Range Products: [39.99, 10.99, 25.89, 13.99, 40.0]\n",
      "Updated Product Prices: [39.99, 10.99, 25.89, 13.99, 5.99, 40.0, 42.5, 50.0]\n"
     ]
    }
   ],
   "source": [
    "##Task 3: Product List Management\n",
    "# List of product prices\n",
    "product_prices = [39.99, 10.99, 25.89, 13.99, 5.99, 40.00, 42.50]\n",
    "\n",
    "# Extract highest and lowest prices\n",
    "highest_price = max(product_prices)\n",
    "lowest_price = min(product_prices)\n",
    "\n",
    "# Create a new list with mid-range products (excluding highest and lowest)\n",
    "mid_range_products = [price for price in product_prices if lowest_price < price < highest_price]\n",
    "\n",
    "# Add a new premium product price\n",
    "premium_price = 50.00\n",
    "product_prices.append(premium_price)\n",
    "\n",
    "# Print results\n",
    "print(f\"Highest Price: ${highest_price}\")\n",
    "print(f\"Lowest Price: ${lowest_price}\")\n",
    "print(f\"Mid-Range Products: {mid_range_products}\")\n",
    "print(f\"Updated Product Prices: {product_prices}\")"
   ]
  },
  {
   "cell_type": "code",
   "execution_count": 45,
   "id": "42071b29-8db2-4242-9fb1-1b9175109b1e",
   "metadata": {},
   "outputs": [
    {
     "name": "stdout",
     "output_type": "stream",
     "text": [
      "Product Name: Jabra Headset\n",
      "SKU: WM-12345\n"
     ]
    }
   ],
   "source": [
    "##Task 4: Inventory Lookup\n",
    "# Create product dictionary\n",
    "product = {\n",
    "    \"product_name\": \"Jabra Headset\",\n",
    "    \"SKU\": \"WM-12345\",\n",
    "    \"price\": 599.99,\n",
    "    \"category\": \"Electronics\"\n",
    "}\n",
    "\n",
    "# Function to query product details\n",
    "def query_product(product_dict):\n",
    "    print(f\"Product Name: {product_dict['product_name']}\")\n",
    "    print(f\"SKU: {product_dict['SKU']}\")\n",
    "\n",
    "# Example query\n",
    "query_product(product)"
   ]
  },
  {
   "cell_type": "code",
   "execution_count": 47,
   "id": "332bad68-eb92-40bf-b44f-e5e05a4cdfba",
   "metadata": {},
   "outputs": [
    {
     "name": "stdout",
     "output_type": "stream",
     "text": [
      "Current Stock: 15 - Reorder Now\n",
      "Current Stock: 30 - Reorder Now\n",
      "Current Stock: 8 - Reorder Now\n",
      "Current Stock: 25 - Reorder Now\n"
     ]
    }
   ],
   "source": [
    "##Task 5: Stock Level Alert System\n",
    "# Define stock threshold\n",
    "threshold = 40\n",
    "\n",
    "# Function to check stock level\n",
    "def check_stock(stock_level):\n",
    "    if stock_level < threshold:\n",
    "        print(\"Reorder Now\")\n",
    "    else:\n",
    "        print(\"Stock is sufficient.\")\n",
    "\n",
    "# Example stock levels\n",
    "stock_levels = [15, 30, 8, 25]\n",
    "\n",
    "# Check each stock level\n",
    "for stock in stock_levels:\n",
    "    print(f\"Current Stock: {stock} - \", end=\"\")\n",
    "    check_stock(stock)"
   ]
  },
  {
   "cell_type": "code",
   "execution_count": 49,
   "id": "4585e417-d768-4d6e-bd42-323bbe9ae838",
   "metadata": {},
   "outputs": [
    {
     "name": "stdout",
     "output_type": "stream",
     "text": [
      "Using for loop:\n",
      "MOBILE\n",
      "TABLET\n",
      "LAPTOP\n",
      "CHARGER\n",
      "\n",
      "Using while loop:\n",
      "MOBILE\n",
      "TABLET\n",
      "LAPTOP\n",
      "CHARGER\n"
     ]
    }
   ],
   "source": [
    "##Task 6: Sales Report Formatting\n",
    "# List of products sold\n",
    "products_sold = [\"mobile\", \"tablet\", \"laptop\", \"charger\"]\n",
    "\n",
    "print(\"Using for loop:\")\n",
    "# Using for loop\n",
    "for product in products_sold:\n",
    "    print(product.upper())\n",
    "\n",
    "print(\"\\nUsing while loop:\")\n",
    "# Using while loop\n",
    "index = 0\n",
    "while index < len(products_sold):\n",
    "    print(products_sold[index].upper())\n",
    "    index += 1"
   ]
  },
  {
   "cell_type": "code",
   "execution_count": 13,
   "id": "56b88c08-7aa0-4b4d-868e-ba5b407da19d",
   "metadata": {},
   "outputs": [
    {
     "name": "stdout",
     "output_type": "stream",
     "text": [
      "Area of Electronics section: 300 square meters\n",
      "Area of Clothing section: 500 square meters\n",
      "Area of Groceries section: 750 square meters\n"
     ]
    }
   ],
   "source": [
    "##Task 7: Area Calculation for Store Layout\n",
    "# Function to calculate area\n",
    "def calculate_area(length, width):\n",
    "    return length * width\n",
    "\n",
    "# Store sections with dimensions\n",
    "store_sections = {\n",
    "    \"Electronics\": {\"length\": 20, \"width\": 15},\n",
    "    \"Clothing\": {\"length\": 25, \"width\": 20},\n",
    "    \"Groceries\": {\"length\": 30, \"width\": 25}\n",
    "}\n",
    "\n",
    "# Calculate and print area for each section\n",
    "for section, dimensions in store_sections.items():\n",
    "    area = calculate_area(dimensions[\"length\"], dimensions[\"width\"])\n",
    "    print(f\"Area of {section} section: {area} square meters\")"
   ]
  },
  {
   "cell_type": "code",
   "execution_count": 15,
   "id": "83e3f6e9-fe3f-44fd-a67c-fd42cecad524",
   "metadata": {},
   "outputs": [
    {
     "name": "stdout",
     "output_type": "stream",
     "text": [
      "Number of vowels in feedback: 12\n",
      "Reversed Feedback: .dedivorp ecivres eht htiw yppah yrev ma I\n"
     ]
    }
   ],
   "source": [
    "##Task 8: Customer Feedback Analysis\n",
    "# Function to count vowels\n",
    "def count_vowels(message):\n",
    "    vowels = 'aeiouAEIOU'\n",
    "    count = 0\n",
    "    for char in message:\n",
    "        if char in vowels:\n",
    "            count += 1\n",
    "    return count\n",
    "\n",
    "# Function to reverse message\n",
    "def reverse_message(message):\n",
    "    return message[::-1]\n",
    "\n",
    "# Example feedback message\n",
    "feedback = \"I am very happy with the service provided.\"\n",
    "\n",
    "# Count vowels\n",
    "vowel_count = count_vowels(feedback)\n",
    "print(f\"Number of vowels in feedback: {vowel_count}\")\n",
    "\n",
    "# Reverse message\n",
    "reversed_feedback = reverse_message(feedback)\n",
    "print(f\"Reversed Feedback: {reversed_feedback}\")"
   ]
  },
  {
   "cell_type": "code",
   "execution_count": 19,
   "id": "73ec413b-912b-4d69-8d81-0d574aa9620f",
   "metadata": {},
   "outputs": [
    {
     "name": "stdout",
     "output_type": "stream",
     "text": [
      "Products eligible for discount:\n",
      "[19.99, 15.49, 23.99, 30.0, 12.5]\n"
     ]
    }
   ],
   "source": [
    "##Task 9: Price Filtering Tool\n",
    "# List of product prices\n",
    "product_prices = [19.99, 5.99, 15.49, 23.99, 9.99, 30.00, 12.50]\n",
    "\n",
    "# Define price threshold\n",
    "threshold = 10.00\n",
    "\n",
    "# Filter products using list comprehension\n",
    "eligible_products = [price for price in product_prices if price >= threshold]\n",
    "\n",
    "# Print eligible products\n",
    "print(\"Products eligible for discount:\")\n",
    "print(eligible_products)"
   ]
  },
  {
   "cell_type": "code",
   "execution_count": 21,
   "id": "932e7f8c-ce2c-4d68-857f-5de95e79e843",
   "metadata": {},
   "outputs": [
    {
     "name": "stdout",
     "output_type": "stream",
     "text": [
      "Sales Log Content:\n",
      "2024-04-01: Total Sales = $1500\n",
      "2024-04-02: Total Sales = $1750\n",
      "\n"
     ]
    }
   ],
   "source": [
    "##Task 10: Sales Log File Management\n",
    "# Define sales summaries\n",
    "daily_summary_1 = \"2024-04-01: Total Sales = $1500\"\n",
    "daily_summary_2 = \"2024-04-02: Total Sales = $1750\"\n",
    "\n",
    "# Write summaries to sales_log.txt\n",
    "with open(\"sales_log.txt\", \"w\") as file:\n",
    "    file.write(daily_summary_1 + \"\\n\")\n",
    "    file.write(daily_summary_2 + \"\\n\")\n",
    "\n",
    "# Read and print the content\n",
    "with open(\"sales_log.txt\", \"r\") as file:\n",
    "    content = file.read()\n",
    "\n",
    "print(\"Sales Log Content:\")\n",
    "print(content)"
   ]
  },
  {
   "cell_type": "code",
   "execution_count": 23,
   "id": "dfa652dc-5dae-4ef3-8e2e-c607aa053635",
   "metadata": {},
   "outputs": [
    {
     "name": "stdout",
     "output_type": "stream",
     "text": [
      "Average Daily Sales for the Past Week: $1650.00\n"
     ]
    }
   ],
   "source": [
    "##Task 11: Daily Sales Average\n",
    "# List of sales figures for the last 7 days\n",
    "weekly_sales = [1500, 1750, 1600, 1800, 1700, 1650, 1550]\n",
    "\n",
    "# Calculate average sales\n",
    "total_sales = sum(weekly_sales)\n",
    "average_sales = total_sales / len(weekly_sales)\n",
    "\n",
    "# Print average sales\n",
    "print(f\"Average Daily Sales for the Past Week: ${average_sales:.2f}\")"
   ]
  },
  {
   "cell_type": "code",
   "execution_count": 25,
   "id": "3c7f942d-fd8c-49a4-b0aa-4ec79d0c3a04",
   "metadata": {},
   "outputs": [
    {
     "name": "stdout",
     "output_type": "stream",
     "text": [
      "Customer 1: Medium Spender\n",
      "Customer 2: Medium Spender\n",
      "Customer 3: High Spender\n",
      "Customer 4: Low Spender\n",
      "Customer 5: Medium Spender\n",
      "Customer 6: High Spender\n",
      "Customer 7: Low Spender\n"
     ]
    }
   ],
   "source": [
    "##Task 12: Customer Segmentation\n",
    "# List of customer spending amounts\n",
    "customer_spending = [150, 450, 1200, 75, 300, 850, 50]\n",
    "\n",
    "# Function to categorize spending\n",
    "def categorize_spending(amount):\n",
    "    if amount < 100:\n",
    "        return \"Low\"\n",
    "    elif 100 <= amount < 500:\n",
    "        return \"Medium\"\n",
    "    else:\n",
    "        return \"High\"\n",
    "\n",
    "# Categorize each customer\n",
    "categorized_customers = []\n",
    "for spending in customer_spending:\n",
    "    category = categorize_spending(spending)\n",
    "    categorized_customers.append(category)\n",
    "\n",
    "# Print results\n",
    "for i, category in enumerate(categorized_customers, start=1):\n",
    "    print(f\"Customer {i}: {category} Spender\")"
   ]
  },
  {
   "cell_type": "code",
   "execution_count": 27,
   "id": "6b8699fe-0aa5-4e44-94a7-5b32dd3861bf",
   "metadata": {},
   "outputs": [
    {
     "name": "stdout",
     "output_type": "stream",
     "text": [
      "Final Prices after Discount:\n",
      "Laptop: Original Price = $1200.0, Discount = 10%, Final Price = $1080.00\n",
      "Smartphone: Original Price = $800.0, Discount = 15%, Final Price = $680.00\n",
      "Headphones: Original Price = $150.0, Discount = 5%, Final Price = $142.50\n",
      "Monitor: Original Price = $300.0, Discount = 20%, Final Price = $240.00\n"
     ]
    }
   ],
   "source": [
    "##Task 13: Discount Calculation\n",
    "# Function to calculate final price after discount\n",
    "def calculate_final_price(original_price, discount_percentage):\n",
    "    discount_amount = original_price * (discount_percentage / 100)\n",
    "    final_price = original_price - discount_amount\n",
    "    return final_price\n",
    "\n",
    "# List of products with original prices and discount percentages\n",
    "products = [\n",
    "    {\"name\": \"Laptop\", \"price\": 1200.00, \"discount\": 10},\n",
    "    {\"name\": \"Smartphone\", \"price\": 800.00, \"discount\": 15},\n",
    "    {\"name\": \"Headphones\", \"price\": 150.00, \"discount\": 5},\n",
    "    {\"name\": \"Monitor\", \"price\": 300.00, \"discount\": 20}\n",
    "]\n",
    "\n",
    "# Calculate and print final prices\n",
    "print(\"Final Prices after Discount:\")\n",
    "for product in products:\n",
    "    final = calculate_final_price(product[\"price\"], product[\"discount\"])\n",
    "    print(f\"{product['name']}: Original Price = ${product['price']}, Discount = {product['discount']}%, Final Price = ${final:.2f}\")"
   ]
  },
  {
   "cell_type": "code",
   "execution_count": 29,
   "id": "3a1f37ae-8c57-4cb8-9b0f-cd0eb9c33b02",
   "metadata": {},
   "outputs": [
    {
     "name": "stdout",
     "output_type": "stream",
     "text": [
      "Feedback: \"I am very happy with the service provided.\" - Sentiment: Positive\n",
      "Feedback: \"The product quality is terrible and I am disappointed.\" - Sentiment: Negative\n",
      "Feedback: \"Good experience overall.\" - Sentiment: Positive\n",
      "Feedback: \"Unhappy with the delivery time.\" - Sentiment: Positive\n"
     ]
    }
   ],
   "source": [
    "##Task 14: Customer Feedback Sentiment Analysis\n",
    "# Function to analyze sentiment\n",
    "def analyze_sentiment(feedback):\n",
    "    positive_words = [\"good\", \"happy\", \"satisfied\", \"excellent\", \"fantastic\"]\n",
    "    negative_words = [\"bad\", \"disappointed\", \"poor\", \"terrible\", \"unhappy\"]\n",
    "    \n",
    "    feedback_lower = feedback.lower()\n",
    "    sentiment = \"Neutral\"  # Default sentiment\n",
    "    \n",
    "    # Check for positive words\n",
    "    for word in positive_words:\n",
    "        if word in feedback_lower:\n",
    "            sentiment = \"Positive\"\n",
    "            break\n",
    "    \n",
    "    # Check for negative words if sentiment is still Neutral\n",
    "    if sentiment == \"Neutral\":\n",
    "        for word in negative_words:\n",
    "            if word in feedback_lower:\n",
    "                sentiment = \"Negative\"\n",
    "                break\n",
    "    \n",
    "    return sentiment\n",
    "\n",
    "# Example feedback messages\n",
    "feedback_messages = [\n",
    "    \"I am very happy with the service provided.\",\n",
    "    \"The product quality is terrible and I am disappointed.\",\n",
    "    \"Good experience overall.\",\n",
    "    \"Unhappy with the delivery time.\"\n",
    "]\n",
    "\n",
    "# Analyze and print sentiment\n",
    "for feedback in feedback_messages:\n",
    "    sentiment = analyze_sentiment(feedback)\n",
    "    print(f\"Feedback: \\\"{feedback}\\\" - Sentiment: {sentiment}\")\n"
   ]
  },
  {
   "cell_type": "code",
   "execution_count": 51,
   "id": "7898e12e-e43b-4a60-ae03-4cde291abf43",
   "metadata": {},
   "outputs": [
    {
     "name": "stdout",
     "output_type": "stream",
     "text": [
      "Updated Employee Salaries:\n",
      "Garima: $77000.00\n",
      "Gauri: $57750.00\n",
      "Milind: $51000.00\n",
      "Rupal: $45000.00\n"
     ]
    }
   ],
   "source": [
    "##Task 15: Employee Salary Increment Calculator\n",
    "# Dictionary of employees and their performance ratings\n",
    "employees = {\n",
    "    \"Garima\": {\"rating\": \"Excellent\", \"salary\": 70000},\n",
    "    \"Gauri\": {\"rating\": \"Good\", \"salary\": 55000},\n",
    "    \"Milind\": {\"rating\": \"Average\", \"salary\": 50000},\n",
    "    \"Rupal\": {\"rating\": \"Poor\", \"salary\": 45000}\n",
    "}\n",
    "\n",
    "# Define increment percentages based on ratings\n",
    "increments = {\n",
    "    \"Excellent\": 10,  # 10% increment\n",
    "    \"Good\": 5,        # 5% increment\n",
    "    \"Average\": 2,     # 2% increment\n",
    "    \"Poor\": 0         # No increment\n",
    "}\n",
    "\n",
    "# Function to apply increment\n",
    "def apply_increment(employees_dict, increments_dict):\n",
    "    updated_salaries = {}\n",
    "    for name, details in employees_dict.items():\n",
    "        rating = details[\"rating\"]\n",
    "        current_salary = details[\"salary\"]\n",
    "        increment_percentage = increments_dict.get(rating, 0)\n",
    "        increment_amount = current_salary * (increment_percentage / 100)\n",
    "        new_salary = current_salary + increment_amount\n",
    "        updated_salaries[name] = new_salary\n",
    "    return updated_salaries\n",
    "\n",
    "# Apply increments\n",
    "updated_salaries = apply_increment(employees, increments)\n",
    "\n",
    "# Print updated salaries\n",
    "print(\"Updated Employee Salaries:\")\n",
    "for name, salary in updated_salaries.items():\n",
    "    print(f\"{name}: ${salary:.2f}\")"
   ]
  },
  {
   "cell_type": "code",
   "execution_count": 33,
   "id": "e225c3a1-4e82-4d86-a274-7ad81f3a6709",
   "metadata": {},
   "outputs": [
    {
     "name": "stdout",
     "output_type": "stream",
     "text": [
      "Monthly Sales Report:\n",
      "Monthly Sales Report\n",
      "--------------------\n",
      "Total Sales: $49850\n",
      "Average Daily Sales: $1661.67\n",
      "\n"
     ]
    }
   ],
   "source": [
    "##Task 16: Monthly Sales Report Generator\n",
    "# List of daily sales figures for a month (assuming 30 days)\n",
    "daily_sales = [\n",
    "    1500, 1750, 1600, 1800, 1700, 1650, 1550, 1600, 1750, 1800,\n",
    "    1700, 1600, 1650, 1550, 1600, 1750, 1800, 1700, 1600, 1650,\n",
    "    1550, 1600, 1750, 1800, 1700, 1600, 1650, 1550, 1600, 1750\n",
    "]\n",
    "\n",
    "# Calculate total and average sales\n",
    "total_sales = sum(daily_sales)\n",
    "average_sales = total_sales / len(daily_sales)\n",
    "\n",
    "# Write to monthly_report.txt\n",
    "with open(\"monthly_report.txt\", \"w\") as file:\n",
    "    file.write(\"Monthly Sales Report\\n\")\n",
    "    file.write(\"--------------------\\n\")\n",
    "    file.write(f\"Total Sales: ${total_sales}\\n\")\n",
    "    file.write(f\"Average Daily Sales: ${average_sales:.2f}\\n\")\n",
    "\n",
    "# Read and print the report\n",
    "with open(\"monthly_report.txt\", \"r\") as file:\n",
    "    report = file.read()\n",
    "\n",
    "print(\"Monthly Sales Report:\")\n",
    "print(report)"
   ]
  },
  {
   "cell_type": "code",
   "execution_count": 35,
   "id": "c8494c35-0781-46d2-b64f-73bffc3ea225",
   "metadata": {},
   "outputs": [
    {
     "name": "stdout",
     "output_type": "stream",
     "text": [
      "Products that need to be reordered:\n",
      "- Headphones\n",
      "- Monitor\n"
     ]
    }
   ],
   "source": [
    "##Task 17: Stock Replenishment Planning\n",
    "# List of products with current stock levels\n",
    "products_stock = [\n",
    "    {\"product_name\": \"Laptop\", \"stock\": 15},\n",
    "    {\"product_name\": \"Smartphone\", \"stock\": 25},\n",
    "    {\"product_name\": \"Headphones\", \"stock\": 5},\n",
    "    {\"product_name\": \"Monitor\", \"stock\": 8},\n",
    "    {\"product_name\": \"Keyboard\", \"stock\": 30}\n",
    "]\n",
    "\n",
    "# Define stock threshold\n",
    "threshold = 10\n",
    "\n",
    "# Determine products to reorder\n",
    "reorder_list = [product[\"product_name\"] for product in products_stock if product[\"stock\"] < threshold]\n",
    "\n",
    "# Print reorder list\n",
    "print(\"Products that need to be reordered:\")\n",
    "for product in reorder_list:\n",
    "    print(f\"- {product}\")"
   ]
  },
  {
   "cell_type": "code",
   "execution_count": 53,
   "id": "34a90861-33d6-47a9-8253-8bc73cd32b43",
   "metadata": {},
   "outputs": [
    {
     "name": "stdout",
     "output_type": "stream",
     "text": [
      "Cleaned Customer Names:\n",
      "Garima Maheshwari\n",
      "Milind Garg\n",
      "Yash Jain\n",
      "Gauri Singh\n",
      "Rupal Sood\n"
     ]
    }
   ],
   "source": [
    "##Task 18: Data Cleaning Utility\n",
    "# List of customer names with inconsistencies\n",
    "customer_names = [\n",
    "    \"  GARIMA maheshwari  \",\n",
    "    \"milind GARG\",\n",
    "    \"YASH jain \",\n",
    "    \"gauri SINGH\",\n",
    "    \"  rupal sood\"\n",
    "]\n",
    "\n",
    "# Function to clean names\n",
    "def clean_names(names_list):\n",
    "    cleaned = []\n",
    "    for name in names_list:\n",
    "        # Trim spaces\n",
    "        name = name.strip()\n",
    "        # Split into parts\n",
    "        parts = name.split()\n",
    "        # Capitalize each part\n",
    "        parts = [part.capitalize() for part in parts]\n",
    "        # Join back into full name\n",
    "        cleaned_name = ' '.join(parts)\n",
    "        cleaned.append(cleaned_name)\n",
    "    return cleaned\n",
    "\n",
    "# Clean the customer names\n",
    "cleaned_customer_names = clean_names(customer_names)\n",
    "\n",
    "# Print cleaned names\n",
    "print(\"Cleaned Customer Names:\")\n",
    "for name in cleaned_customer_names:\n",
    "    print(name)"
   ]
  },
  {
   "cell_type": "code",
   "execution_count": 39,
   "id": "2c8fedda-c69e-4c4f-80e6-a95a5301b635",
   "metadata": {},
   "outputs": [
    {
     "name": "stdout",
     "output_type": "stream",
     "text": [
      "Forecasted Sales for Next Month: $46666.67\n"
     ]
    }
   ],
   "source": [
    "##Task 19: Simple Sales Forecasting\n",
    "# Sales figures for the last 3 months\n",
    "last_three_months_sales = [45000, 48000, 47000]\n",
    "\n",
    "# Function to forecast next month's sales\n",
    "def forecast_sales(sales_last_three):\n",
    "    average = sum(sales_last_three) / len(sales_last_three)\n",
    "    return average\n",
    "\n",
    "# Calculate forecast\n",
    "forecast = forecast_sales(last_three_months_sales)\n",
    "\n",
    "# Print forecasted sales\n",
    "print(f\"Forecasted Sales for Next Month: ${forecast:.2f}\")"
   ]
  },
  {
   "cell_type": "code",
   "execution_count": 55,
   "id": "ec6bbace-0152-4204-9049-98b773c8c30a",
   "metadata": {},
   "outputs": [
    {
     "name": "stdout",
     "output_type": "stream",
     "text": [
      "Customer Loyalty Points:\n",
      "Garima: 500 points\n",
      "Milind: 12000 points\n",
      "Yash: 150 points\n",
      "Kush: 2500 points\n",
      "Rupal: 100 points\n"
     ]
    }
   ],
   "source": [
    "##Task 20: Customer Loyalty Points Calculator\n",
    "# List of customers with their total purchase amounts\n",
    "customers = [\n",
    "    {\"name\": \"Garima\", \"total_purchase\": 250},\n",
    "    {\"name\": \"Milind\", \"total_purchase\": 1200},\n",
    "    {\"name\": \"Yash\", \"total_purchase\": 75},\n",
    "    {\"name\": \"Kush\", \"total_purchase\": 500},\n",
    "    {\"name\": \"Rupal\", \"total_purchase\": 50}\n",
    "]\n",
    "\n",
    "# Define loyalty points based on spending tiers\n",
    "def calculate_loyalty_points(purchase_amount):\n",
    "    if purchase_amount >= 1000:\n",
    "        multiplier = 10  # High spender\n",
    "    elif 500 <= purchase_amount < 1000:\n",
    "        multiplier = 5   # Medium spender\n",
    "    else:\n",
    "        multiplier = 2   # Low spender\n",
    "    points = purchase_amount * multiplier\n",
    "    return points\n",
    "\n",
    "# Calculate and print loyalty points\n",
    "print(\"Customer Loyalty Points:\")\n",
    "for customer in customers:\n",
    "    points = calculate_loyalty_points(customer[\"total_purchase\"])\n",
    "    print(f\"{customer['name']}: {points} points\")"
   ]
  },
  {
   "cell_type": "code",
   "execution_count": null,
   "id": "f039b5a1-890b-46e3-95c4-ceba26e28d8f",
   "metadata": {},
   "outputs": [],
   "source": []
  }
 ],
 "metadata": {
  "kernelspec": {
   "display_name": "Python 3 (ipykernel)",
   "language": "python",
   "name": "python3"
  },
  "language_info": {
   "codemirror_mode": {
    "name": "ipython",
    "version": 3
   },
   "file_extension": ".py",
   "mimetype": "text/x-python",
   "name": "python",
   "nbconvert_exporter": "python",
   "pygments_lexer": "ipython3",
   "version": "3.12.4"
  }
 },
 "nbformat": 4,
 "nbformat_minor": 5
}
